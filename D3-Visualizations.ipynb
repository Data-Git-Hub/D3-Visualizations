{
 "cells": [
  {
   "cell_type": "markdown",
   "id": "8a4505f9",
   "metadata": {},
   "source": [
    "# Web Mining and Applied NLP (CSIS 44-620)\n",
    "\n",
    "## D3: Visualization & Engage\n",
    "\n",
    "### \n",
    "Author: Data-Git-Hub <br>\n",
    "GitHub Project Repository Link: https://github.com/Data-Git-Hub/python-ds <br>\n",
    "7 July 2025 <br>\n",
    "\n",
    "### Introduction\n",
    "In this notebook, I begin exploring core principles of data visualization using Python within a Jupyter Notebook environment. Visualizations play a critical role in transforming raw data into meaningful insights, allowing analysts and stakeholders to interpret trends, relationships, and anomalies quickly and effectively. By integrating tools such as matplotlib, I demonstrate the foundational skills needed to generate plots and prepare data for visual storytelling. This assignment also serves as a technical check to ensure all necessary packages are installed and that my development environment is properly configured. <br>\n",
    "\n",
    "### Task\n",
    "The task involves creating and activating a Python virtual environment, installing required packages, and verifying that essential modules for data analysis and visualization can be successfully imported. After confirming the setup, I display the active package list to document the working environment. This notebook will also provide a starting point for deeper visualization work in later modules, serving as a template and readiness check for future assignments that rely on tools like matplotlib, Counter, and randint."
   ]
  },
  {
   "cell_type": "code",
   "execution_count": 1,
   "id": "c9a8c92e",
   "metadata": {},
   "outputs": [
    {
     "name": "stdout",
     "output_type": "stream",
     "text": [
      "All prereqs installed.\n",
      "Package                 Version\n",
      "----------------------- -----------\n",
      "asttokens               3.0.0\n",
      "colorama                0.4.6\n",
      "comm                    0.2.2\n",
      "contourpy               1.3.2\n",
      "cycler                  0.12.1\n",
      "debugpy                 1.8.14\n",
      "decorator               5.2.1\n",
      "executing               2.2.0\n",
      "fonttools               4.58.5\n",
      "ipykernel               6.29.5\n",
      "ipython                 9.4.0\n",
      "ipython_pygments_lexers 1.1.1\n",
      "jedi                    0.19.2\n",
      "jupyter_client          8.6.3\n",
      "jupyter_core            5.8.1\n",
      "kiwisolver              1.4.8\n",
      "matplotlib              3.10.3\n",
      "matplotlib-inline       0.1.7\n",
      "nest-asyncio            1.6.0\n",
      "numpy                   2.3.1\n",
      "packaging               25.0\n",
      "parso                   0.8.4\n",
      "pillow                  11.3.0\n",
      "pip                     25.1.1\n",
      "platformdirs            4.3.8\n",
      "prompt_toolkit          3.0.51\n",
      "psutil                  7.0.0\n",
      "pure_eval               0.2.3\n",
      "Pygments                2.19.2\n",
      "pyparsing               3.2.3\n",
      "python-dateutil         2.9.0.post0\n",
      "pywin32                 310\n",
      "pyzmq                   27.0.0\n",
      "six                     1.17.0\n",
      "stack-data              0.6.3\n",
      "tornado                 6.5.1\n",
      "traitlets               5.14.3\n",
      "wcwidth                 0.2.13\n"
     ]
    }
   ],
   "source": [
    "# Create and activate a Python virtual environment. \n",
    "# Before starting the project, try all these imports FIRST\n",
    "# Address any errors you get running this code cell \n",
    "# by installing the necessary packages into your active Python environment.\n",
    "# Try to resolve issues using your materials and the web.\n",
    "# If that doesn't work, ask for help in the discussion forums.\n",
    "# You can't complete the exercises until you import these - start early! \n",
    "# We also import Counter and randint (included in the Python Standard Library).\n",
    "\n",
    "from collections import Counter\n",
    "from random import randint\n",
    "import matplotlib.pyplot as plt\n",
    "\n",
    "print('All prereqs installed.')\n",
    "!pip list"
   ]
  }
 ],
 "metadata": {
  "kernelspec": {
   "display_name": ".venv",
   "language": "python",
   "name": "python3"
  },
  "language_info": {
   "codemirror_mode": {
    "name": "ipython",
    "version": 3
   },
   "file_extension": ".py",
   "mimetype": "text/x-python",
   "name": "python",
   "nbconvert_exporter": "python",
   "pygments_lexer": "ipython3",
   "version": "3.13.3"
  }
 },
 "nbformat": 4,
 "nbformat_minor": 5
}
